{
 "cells": [
  {
   "cell_type": "code",
   "execution_count": 1,
   "metadata": {},
   "outputs": [],
   "source": [
    "import numpy as np\n",
    "import matplotlib.pyplot as plt\n",
    "\n",
    "from sklearn import metrics\n",
    "from sklearn.datasets import load_digits\n",
    "from sklearn.model_selection import train_test_split\n",
    "from sklearn.neighbors import KNeighborsClassifier\n",
    "from sklearn.linear_model import SGDClassifier\n",
    "from sklearn.tree import DecisionTreeClassifier"
   ]
  },
  {
   "cell_type": "code",
   "execution_count": 2,
   "metadata": {},
   "outputs": [
    {
     "name": "stdout",
     "output_type": "stream",
     "text": [
      "Image Data and Labels Shape: (1797, 64) (1797,)\n",
      "Image Data Size: 64\n"
     ]
    }
   ],
   "source": [
    "# Load digits\n",
    "digits = load_digits()\n",
    "\n",
    "print(\"Image Data and Labels Shape:\", digits.data.shape,  digits.target.shape)\n",
    "print(\"Image Data Size:\", digits.data[0].size)"
   ]
  },
  {
   "cell_type": "code",
   "execution_count": 3,
   "metadata": {},
   "outputs": [
    {
     "data": {
      "image/png": "[encoded data removed]",
      "text/plain": [
       "<Figure size 1440x720 with 10 Axes>"
      ]
     },
     "metadata": {
      "needs_background": "light"
     },
     "output_type": "display_data"
    }
   ],
   "source": [
    "# Display the first 10 images and labels\n",
    "plt.figure(figsize=(20, 10))\n",
    "for index, (image, label) in enumerate(zip(digits.data[0:10], digits.target[0:10])):\n",
    "    plt.subplot(2, 5, index + 1)\n",
    "    plt.imshow(np.reshape(image, (8, 8)), cmap='gray')\n",
    "    plt.title('Label: %i\\n' % label, fontsize=25)"
   ]
  },
  {
   "cell_type": "code",
   "execution_count": 4,
   "metadata": {},
   "outputs": [],
   "source": [
    "test_size = 0.25\n",
    "n_neighbors = 3\n",
    "\n",
    "# Split the data\n",
    "x_train, x_test, y_train, y_test = train_test_split(\n",
    "    digits.data, digits.target,\n",
    "    test_size=test_size, random_state=0)"
   ]
  },
  {
   "cell_type": "code",
   "execution_count": 5,
   "metadata": {},
   "outputs": [],
   "source": [
    "# Initialize the KNN model\n",
    "model = KNeighborsClassifier(n_neighbors=n_neighbors)\n",
    "model.fit(x_train, y_train)\n",
    "# Evaluate/predict the test data\n",
    "knn_predictions = model.predict(x_test)"
   ]
  },
  {
   "cell_type": "code",
   "execution_count": 7,
   "metadata": {},
   "outputs": [],
   "source": [
    "# Initialize the SGD model\n",
    "model = SGDClassifier(max_iter=500)\n",
    "model.fit(x_train, y_train)\n",
    "# Evaluate/predict the test data\n",
    "sgd_predictions = model.predict(x_test)"
   ]
  },
  {
   "cell_type": "code",
   "execution_count": 8,
   "metadata": {},
   "outputs": [],
   "source": [
    "# Initialize the DT model\n",
    "model = DecisionTreeClassifier()\n",
    "model.fit(x_train, y_train)\n",
    "# Evaluate/predict the test data\n",
    "dt_predictions = model.predict(x_test)"
   ]
  },
  {
   "cell_type": "code",
   "execution_count": 9,
   "metadata": {},
   "outputs": [
    {
     "name": "stdout",
     "output_type": "stream",
     "text": [
      "COMP9517 Week 5 Lab - Solution\n",
      "\n",
      "Test size = 0.25\n",
      "KNN Accuracy:  0.987 \t Recall: 0.987 \n",
      "SGD Accuracy:  0.938 \t Recall: 0.940 \n",
      "DT Accuracy:   0.844 \t Recall: 0.846 \n",
      "\n",
      "KNN Confusion Matrix:\n",
      "[[37  0  0  0  0  0  0  0  0  0]\n",
      " [ 0 42  0  0  0  1  0  0  0  0]\n",
      " [ 0  0 44  0  0  0  0  0  0  0]\n",
      " [ 0  0  1 44  0  0  0  0  0  0]\n",
      " [ 0  0  0  0 37  0  0  1  0  0]\n",
      " [ 0  0  0  0  0 47  0  0  0  1]\n",
      " [ 0  0  0  0  0  0 52  0  0  0]\n",
      " [ 0  0  0  0  0  0  0 48  0  0]\n",
      " [ 0  0  0  2  0  0  0  0 46  0]\n",
      " [ 0  0  0  0  0  0  0  0  0 47]]\n"
     ]
    }
   ],
   "source": [
    "# Display the results\n",
    "print(\"COMP9517 Week 5 Lab - Solution\")\n",
    "print(\"\\nTest size = %.2f\" % test_size)\n",
    "\n",
    "print(\"KNN Accuracy:  %0.3f \\t Recall: %0.3f \" % (metrics.accuracy_score(y_test, knn_predictions), metrics.recall_score(y_test, knn_predictions, average='macro')))\n",
    "print(\"SGD Accuracy:  %0.3f \\t Recall: %0.3f \" % (metrics.accuracy_score(y_test, sgd_predictions), metrics.recall_score(y_test, sgd_predictions, average='macro')))\n",
    "print(\"DT Accuracy:   %0.3f \\t Recall: %0.3f \" % (metrics.accuracy_score(y_test, dt_predictions), metrics.recall_score(y_test, dt_predictions, average='macro')))\n",
    "\n",
    "print(\"\\nKNN Confusion Matrix:\")\n",
    "print(metrics.confusion_matrix(y_test, knn_predictions))\n"
   ]
  },
  {
   "cell_type": "code",
   "execution_count": null,
   "metadata": {},
   "outputs": [],
   "source": []
  }
 ],
 "metadata": {
  "kernelspec": {
   "display_name": "Python 3",
   "language": "python",
   "name": "python3"
  },
  "language_info": {
   "codemirror_mode": {
    "name": "ipython",
    "version": 3
   },
   "file_extension": ".py",
   "mimetype": "text/x-python",
   "name": "python",
   "nbconvert_exporter": "python",
   "pygments_lexer": "ipython3",
   "version": "3.7.7"
  }
 },
 "nbformat": 4,
 "nbformat_minor": 2
}
